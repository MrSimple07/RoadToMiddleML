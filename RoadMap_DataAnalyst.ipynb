{
  "nbformat": 4,
  "nbformat_minor": 0,
  "metadata": {
    "colab": {
      "provenance": [],
      "authorship_tag": "ABX9TyMs3/fk3LvNj11xKK6Syyqo",
      "include_colab_link": true
    },
    "kernelspec": {
      "name": "python3",
      "display_name": "Python 3"
    },
    "language_info": {
      "name": "python"
    }
  },
  "cells": [
    {
      "cell_type": "markdown",
      "metadata": {
        "id": "view-in-github",
        "colab_type": "text"
      },
      "source": [
        "<a href=\"https://colab.research.google.com/github/MrSimple07/RoadToMiddleML/blob/main/RoadMap_DataAnalyst.ipynb\" target=\"_parent\"><img src=\"https://colab.research.google.com/assets/colab-badge.svg\" alt=\"Open In Colab\"/></a>"
      ]
    },
    {
      "cell_type": "markdown",
      "source": [
        "# Data Analyst *Roadmap*"
      ],
      "metadata": {
        "id": "QMxjqic8vxbi"
      }
    },
    {
      "cell_type": "markdown",
      "source": [
        "1. What is Data Analytics and Types of Data Analytics\n",
        "- Descriptive ANalysis -\n",
        "- Diagnostic Analysis\n",
        "- Predictive Analysis\n",
        "- Prespective Analysis\n",
        "\n",
        "2. Dispersion:\n",
        "- Range, Variance, Standard Deviation\n",
        "- Central Tendency: Mean, Median, Mode, Average\n",
        "- Distribution Space: Skewness, Kurtosis\n",
        "\n",
        "3. Analysis / Reporting with Excel\n",
        "\n",
        "4. SQL Common Functions\n",
        "\n",
        "5. Learning Programming languages (python, R),\n",
        "- Data Manipulation Libraries (Dplyr)\n",
        "- Data Visualization libraries (matplotlib, seaborn, ggplot2)\n",
        "\n",
        "6. Data Collection\n",
        "- Databases\n",
        "- Csv files\n",
        "- APIs\n",
        "- Web Scraping\n",
        "\n",
        "7. Data Cleaning (Pandas, Dplyr)\n",
        "- Handling Missing Data\n",
        "- Removing Duplicates\n",
        "- Finding Outliers\n",
        "- Data Transformation\n",
        "\n",
        "8. Statistical Analysis\n",
        "- Hypothesis Testing\n",
        "- Correlation Analysis\n",
        "- Regression"
      ],
      "metadata": {
        "id": "OtKg0Fu2vzub"
      }
    },
    {
      "cell_type": "markdown",
      "source": [
        "# Hypothesis Testing\n",
        "\n",
        "1. The main type of Hypothesis:\n",
        "- Null Hypothesis (H0)- A statement that is true, untill the evidence indicates otherwise\n",
        "\n",
        "- Alternative Hypothesis (H1) - A statement against null hypothesis\n",
        "\n",
        "\n",
        "2. Significance level (a) - the threshold for determining whether the null hypothesis can be rejected, commonly set at 0,01 or 0,05 or 0,10.\n",
        "\n",
        "3. P - value - The probability of observing the test results under the null hypothesis.\n",
        "\n",
        "4. Type 1 Error - Incorrectly rejecting the null hypothesis (false positive)\n",
        "\n",
        "5. Type II Error - Failing to reject the null hypothesis when it is false (false negative)"
      ],
      "metadata": {
        "id": "DDUADkX6ltEO"
      }
    },
    {
      "cell_type": "markdown",
      "source": [
        "# Statistical Tests\n",
        "\n",
        "1. Z-Test - Z-tests are used to determine if there is a significant difference between sample and population means or between the means of two samples, particularly when the population variance is known."
      ],
      "metadata": {
        "id": "f2Qrhon9lwDg"
      }
    },
    {
      "cell_type": "code",
      "source": [
        "library(BSDA)\n",
        "\n",
        "data <- c(52, 50, 51, 53, 54, 52, 50, 51, 52, 53)\n",
        "mu <-50 #population mean\n",
        "sigma <-2 #sd\n",
        "\n",
        "z.test(data, mu, sigma)"
      ],
      "metadata": {
        "colab": {
          "base_uri": "https://localhost:8080/",
          "height": 211
        },
        "id": "WHW1w7cbZ5t8",
        "outputId": "eb91ebbd-969b-42db-9d9e-535d3cf949e6"
      },
      "execution_count": 2,
      "outputs": [
        {
          "output_type": "error",
          "ename": "NameError",
          "evalue": "name 'library' is not defined",
          "traceback": [
            "\u001b[0;31m---------------------------------------------------------------------------\u001b[0m",
            "\u001b[0;31mNameError\u001b[0m                                 Traceback (most recent call last)",
            "\u001b[0;32m<ipython-input-2-5203acbd89fc>\u001b[0m in \u001b[0;36m<cell line: 1>\u001b[0;34m()\u001b[0m\n\u001b[0;32m----> 1\u001b[0;31m \u001b[0mlibrary\u001b[0m\u001b[0;34m(\u001b[0m\u001b[0mBSDA\u001b[0m\u001b[0;34m)\u001b[0m\u001b[0;34m\u001b[0m\u001b[0;34m\u001b[0m\u001b[0m\n\u001b[0m\u001b[1;32m      2\u001b[0m \u001b[0;34m\u001b[0m\u001b[0m\n\u001b[1;32m      3\u001b[0m \u001b[0mdata\u001b[0m \u001b[0;34m<\u001b[0m\u001b[0;34m-\u001b[0m \u001b[0mc\u001b[0m\u001b[0;34m(\u001b[0m\u001b[0;36m52\u001b[0m\u001b[0;34m,\u001b[0m \u001b[0;36m50\u001b[0m\u001b[0;34m,\u001b[0m \u001b[0;36m51\u001b[0m\u001b[0;34m,\u001b[0m \u001b[0;36m53\u001b[0m\u001b[0;34m,\u001b[0m \u001b[0;36m54\u001b[0m\u001b[0;34m,\u001b[0m \u001b[0;36m52\u001b[0m\u001b[0;34m,\u001b[0m \u001b[0;36m50\u001b[0m\u001b[0;34m,\u001b[0m \u001b[0;36m51\u001b[0m\u001b[0;34m,\u001b[0m \u001b[0;36m52\u001b[0m\u001b[0;34m,\u001b[0m \u001b[0;36m53\u001b[0m\u001b[0;34m)\u001b[0m\u001b[0;34m\u001b[0m\u001b[0;34m\u001b[0m\u001b[0m\n\u001b[1;32m      4\u001b[0m \u001b[0mmu\u001b[0m \u001b[0;34m<\u001b[0m\u001b[0;34m-\u001b[0m\u001b[0;36m50\u001b[0m \u001b[0;31m#population mean\u001b[0m\u001b[0;34m\u001b[0m\u001b[0;34m\u001b[0m\u001b[0m\n\u001b[1;32m      5\u001b[0m \u001b[0msigma\u001b[0m \u001b[0;34m<\u001b[0m\u001b[0;34m-\u001b[0m\u001b[0;36m2\u001b[0m \u001b[0;31m#sd\u001b[0m\u001b[0;34m\u001b[0m\u001b[0;34m\u001b[0m\u001b[0m\n",
            "\u001b[0;31mNameError\u001b[0m: name 'library' is not defined"
          ]
        }
      ]
    },
    {
      "cell_type": "markdown",
      "source": [
        "2. T- Test - comparing the means of one or two samples, especially when the population variance is unknown\n",
        "\n",
        "3. ANOVA (Analysis of Variance) - It is used to compare  the means of three or more groups to see if at least one group mean is different from the others.\n",
        "\n",
        "\n",
        "Non- parametric Tests\n",
        "\n",
        "1. Chi-Square Test - The Chi-Square test is used to determine if there is a significant association between two categorical variables.\n",
        "\n",
        "2. Mann- Whitney U test - The Mann-Whitney U test is used to compare differences between two independent groups when the dependent variable is either ordinal or continuous, but not normally distributed.\n",
        "\n",
        "3. Spearman's Rank Correlation - Spearman's Rank Correlation is used to assess the strength and direction of the association between two ranked variables."
      ],
      "metadata": {
        "id": "aVyUa9NXZ4_O"
      }
    },
    {
      "cell_type": "markdown",
      "source": [
        "# Dataset Collection"
      ],
      "metadata": {
        "id": "ZLrvWCEIbq4p"
      }
    },
    {
      "cell_type": "markdown",
      "source": [
        "### Web Scraping\n",
        "\n",
        "Web scraping is the process of extracting data from websites. It can be done using various tools and libraries. In Python, some popular libraries for web scraping include BeautifulSoup, Requests, and Scrapy."
      ],
      "metadata": {
        "id": "hRSNS5T5btGm"
      }
    },
    {
      "cell_type": "code",
      "source": [
        "!pip install requests beautifulsoup4"
      ],
      "metadata": {
        "colab": {
          "base_uri": "https://localhost:8080/"
        },
        "id": "PNZdZtRMbZe-",
        "outputId": "b61b0f25-014f-43e6-ec9b-50b88684667d"
      },
      "execution_count": 6,
      "outputs": [
        {
          "output_type": "stream",
          "name": "stdout",
          "text": [
            "Requirement already satisfied: requests in /usr/local/lib/python3.10/dist-packages (2.31.0)\n",
            "Requirement already satisfied: beautifulsoup4 in /usr/local/lib/python3.10/dist-packages (4.12.3)\n",
            "Requirement already satisfied: charset-normalizer<4,>=2 in /usr/local/lib/python3.10/dist-packages (from requests) (3.3.2)\n",
            "Requirement already satisfied: idna<4,>=2.5 in /usr/local/lib/python3.10/dist-packages (from requests) (3.7)\n",
            "Requirement already satisfied: urllib3<3,>=1.21.1 in /usr/local/lib/python3.10/dist-packages (from requests) (2.0.7)\n",
            "Requirement already satisfied: certifi>=2017.4.17 in /usr/local/lib/python3.10/dist-packages (from requests) (2024.7.4)\n",
            "Requirement already satisfied: soupsieve>1.2 in /usr/local/lib/python3.10/dist-packages (from beautifulsoup4) (2.5)\n"
          ]
        }
      ]
    },
    {
      "cell_type": "code",
      "source": [
        "import requests\n",
        "from bs4 import BeautifulSoup\n",
        "\n",
        "url = 'https://uz.wikipedia.org'\n",
        "page = requests.get(url)\n",
        "soup = BeautifulSoup(page.content, 'html.parser')\n",
        "\n",
        "title = soup.title.string\n",
        "print('Title: ', title)\n",
        "\n",
        "paragraphs = soup.find_all('p')\n",
        "for p in paragraphs:\n",
        "  print(p.text)"
      ],
      "metadata": {
        "colab": {
          "base_uri": "https://localhost:8080/"
        },
        "id": "OOp3t4arb5XH",
        "outputId": "5a2feab9-1fb0-45dd-bcfd-7c6071b8be59"
      },
      "execution_count": 11,
      "outputs": [
        {
          "output_type": "stream",
          "name": "stdout",
          "text": [
            "Title:  Vikipediya\n",
            "\n",
            "\n",
            "Oʻzbekcha Vikipediyadagi maqolalar soni: 300 49723-iyul 2024-yil, seshanba\n",
            " Fan\n",
            " Matematika\n",
            " Fizika\n",
            "\n",
            " Adabiyot\n",
            " Geografiya\n",
            " Astronomiya\n",
            "\n",
            " Tarix\n",
            " Texnologiya\n",
            "Boshqa portallar\n",
            "\n",
            "Har kim hissa qoʻsha oladigan ochiq ensiklopediya\n",
            "\n",
            "Oʻzbekcha Vikipediyadagi maqolalar soni: 300 497\n",
            "Buxoro qamali — 1220-yil mart oyida, yaʼni moʻgʻullar tomonidan Xorazmshohlar davlatinining bosib olishi davrida sodir boʻlgan harbiy bosqin. Bosqinda Moʻgʻullar imperiyasining xoni Chingizxon sulton Muhammad II tomonidan boshqarilayotgan Xorazmshohlar davlati bilan tutashgan chegaraning turli tomonlaridan hujum uyushtirgan. Xorazmshoh yirik shaharlarni yakka tartibda mudofaa qilishni rejalashtirgan boʻlsa, moʻgʻullar chegara shahar — Oʻtrorni qamal qilib, Xorazmshohlar davlatiga qaqshatqich zarbalar berishni maqsad qilgandi. Buxoro shahri Xorazmshohlar davlatining yirik savdo va madaniy markazi boʻlgan. Shahar Moʻgʻullar imperiyasi bilan chegaradan ancha uzoqda joylashganligi sababli xorazmshoh bu shaharni himoya qilish uchun 20 000 dan kamroq askar ajratgan. Soni 30 000 dan 50 000 gacha boʻlgan moʻgʻul qoʻshinlari katta qoʻshin uchun oʻtib boʻlmas toʻsiq  deb hisoblangan Qizilqum choʻlini kesib oʻtishga muvaffaq boʻlganlar. Buxoro mudofaachilari butunlay sarosimaga tushgan va muvaffaqiyatsiz jangdan soʻng tashqi shahar uch kun ichida taslim boʻlgan. Xorazmlik hukmdorga sodiq askarlar qal’a buzib tashlangunga qadar ikki haftadan kamroq vaqt davomida mudofaani davom ettirganlar. Moʻgʻul qoʻshini qoʻrgʻondagi barchani oʻldirib, aholining katta qismini qul qilib olgan. Mohir hunarmandlar mehnat mahsuli moʻgʻullar tomonidan oʻzlashtirilgan, boshqalar esa harbiylikka jalb etilgan. Garchi oʻsha paytda Buxoro yongʻinlar oqibatida vayron boʻlgan boʻlsa-da, talafot nisbatan kamroq boʻlgan. Qisqa vaqt ichida shahar yana savdo va madaniy markazga aylanib, Pax Mongolica davrida yanada rivojlangan. (Davomi...)\n",
            "\n",
            "Afgʻoniston 2004-yilgi Yozgi Olimpiada oʻyinlarida — Afgʻoniston islom respublikasi 2004-yilning 13–29-avgust kunlari Gretsiyaning Afina shahrida boʻlib oʻtgan Yozgi Olimpiada oʻyinlarida ishtirok etgan. Ushbu Olimpiada Afgʻonistonning umumiy hisobda Yozgi Olimpiada oʻyinlaridagi oʻn birinchi va 2003-yili Afgʻoniston Milliy olimpiya qoʻmitasi (MOQ) Xalqaro olimpiada qoʻmitasi (XOQ) tarkibida qayta tiklanganidan keyingi ilk ishtiroki boʻlgan. 1996—2001-yillarda Afgʻonistonni boshqargan „Tolibon“ harakati mamlakatda ayollar huquqlari borasida bir qancha cheklovlar eʼlon qilgan edi. 2004-yilgi Yozgi Olimpiada oʻyinlariga Afgʻoniston delegatsiyasi besh nafar sportchidan iborat jamoa, jumladan, sprinterlar Mas’ud Aziziy va Robina Muqimyar, bokschi Basharmal Sultoniy, dzyudochi Friba Rizoiy hamda kurashchi Bashir Ahmad Rahmatiylar bilan tashrif buyurgan. Muqimyar va Rizoiy Afgʻoniston delegatsiyasi tarkibida Yozgi Olimpiada oʻyinlarida ishtirok etgan ilk ayol sportchilar boʻlgan. Delegatsiya tarkibidagi hech bir sportchi oʻz yoʻnalishi boʻyicha birinchi turdan keyingi bosqichga oʻta olmagan. Biroq ular orasida eng yaxshi koʻrsatkichni yengil atletikachi Muqimyar qayd etgan boʻlib, u oʻz yoʻnalishida yaʼni ayollar oʻrtasida 100 metrga yugurish bahslarida mamlakat milliy rekordini oʻrnatgan.\n",
            "(Davomi...)\n",
            "\n",
            "Acquacotta — italyan oshxonasida asosan issiq bulyon asosida tayyorlanadigan nonli shoʻrva. U dastlab dehqonlarning taomi sifatida tayyorlangan. Italyanlar bu ovqatni tayyorlash va isteʼmol qilishni qadim zamonlarda boshlagan. Bu taom ilk bora janubiy Toskana va Latsio shimolidagi Maremma deb nomlanuvchi qirgʻoq hududida tayyorlanganligi aytiladi. Mazkur yegulik turi qotgan va eskirgan nonni isteʼmol qilish uchun bir vosita sifatida oʻylab topilgan. Zamonaviy davrda taom uchun foydalaniladigan masalliqlar turi koʻpayib, baʼzan qoʻshimcha mahsulotlardan ham keng foydalanila boshlangan. Shoʻrvaning „acquacotta con funghi“ va „acquacotta con peperoni“ kabi turlari mavjud.\n",
            "(Davomi...)\n",
            "\n",
            "Soʻnggi tanlangan roʻyxat\n",
            "Adabiyot boʻyicha Nobel mukofoti sovrindorlari roʻyxati\n",
            "Bitta oldingi tanlangan roʻyxat\n",
            "Yaponiyaga qarashli shaharlar roʻyxati\n",
            "Tavallud topganlar • Vafot etganlar\n",
            "\n"
          ]
        }
      ]
    },
    {
      "cell_type": "markdown",
      "source": [
        "# APIs"
      ],
      "metadata": {
        "id": "8my-2NpGc7le"
      }
    },
    {
      "cell_type": "code",
      "source": [
        "import requests\n",
        "\n",
        "api_key = 'e7c97bdaf82e4460970b8ef75de1696c'\n",
        "\n",
        "url = 'https://newsapi.org/v2/top-headlines'\n",
        "\n",
        "params = {\n",
        "    'country': 'us',\n",
        "    'apiKey': api_key\n",
        "}\n",
        "\n",
        "response = requests.get(url, params=params)\n",
        "\n",
        "if response.status_code == 200:\n",
        "    data = response.json()\n",
        "    articles = data['articles']\n",
        "\n",
        "    for article in articles:\n",
        "        print(article['title'])\n",
        "else:\n",
        "    print('Failed to fetch news:', response.status_code)\n"
      ],
      "metadata": {
        "colab": {
          "base_uri": "https://localhost:8080/"
        },
        "id": "lF8KaZkccZcS",
        "outputId": "a149f8c6-2c4f-410f-9830-44ba4d675974"
      },
      "execution_count": 13,
      "outputs": [
        {
          "output_type": "stream",
          "name": "stdout",
          "text": [
            "Live Updates: Secret Service Chief Testifies on ‘Failed’ Response at Trump Rally - The New York Times\n",
            "Who has endorsed Kamala Harris for the 2024 Democratic nomination, and who hasn't yet? - CBS News\n",
            "Women recognize prevention’s value, but still delay health screenings - The Washington Post\n",
            "Democrats promise an 'orderly process' to replace Biden. Harris is favored, but questions remain - The Associated Press\n",
            "Democratic delegates swing into action after Biden’s withdrawal from 2024 race - The Guardian US\n",
            "Israeli military orders evacuation of part of Gaza humanitarian zone - The Guardian\n",
            "Ryan Reynolds Jokes Babysitter Taylor Swift Is Costing Him a Fortune - E! NEWS\n",
            "Google is sweetening the Pixel 9 Pro pre-order deal with a limited-edition bonus - Android Central\n",
            "Deadly listeria outbreak tied to sliced deli meat sold in Georgia, 10 other states - WJCL News Savannah\n",
            "Samsung Galaxy Z Fold 6 Review: Big Upgrades at a Big Price - CNET\n",
            "Kasie Hunt asks Manchin if he plans to challenge Harris - CNN\n",
            "Sam Altman-Backed Group Completes Largest US Study on Basic Income - Bloomberg\n",
            "LeBron to bear Team USA flag at Paris Olympics - ESPN\n",
            "Troubled Boeing stays close to the ground at a major UK air show - The Associated Press\n",
            "Prince George suits up for 11th birthday photo taken by Kate Middleton - Page Six\n",
            "Korean Air Commits to Up to 50 Boeing Widebodies to Strengthen Future Long-Haul Fleet - MediaRoom - News Releases/Statements\n",
            "A Harris-Trump race would pit ex-prosecutor vs. recently convicted felon - The Washington Post\n",
            "Man dies after being struck by lightning on Germany’s highest peak - The Associated Press\n",
            "Clues to a possible cure for AIDS - The Economist\n",
            "Better skills training will cut migration, vows Keir Starmer - BBC.com\n"
          ]
        }
      ]
    },
    {
      "cell_type": "code",
      "source": [],
      "metadata": {
        "id": "VB6QDUGSfqwd"
      },
      "execution_count": null,
      "outputs": []
    }
  ]
}
