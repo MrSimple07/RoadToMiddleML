{
  "nbformat": 4,
  "nbformat_minor": 0,
  "metadata": {
    "colab": {
      "provenance": [],
      "authorship_tag": "ABX9TyOwy8f5oP5lzgWHtE/1O/0H",
      "include_colab_link": true
    },
    "kernelspec": {
      "name": "python3",
      "display_name": "Python 3"
    },
    "language_info": {
      "name": "python"
    }
  },
  "cells": [
    {
      "cell_type": "markdown",
      "metadata": {
        "id": "view-in-github",
        "colab_type": "text"
      },
      "source": [
        "<a href=\"https://colab.research.google.com/github/MrSimple07/RoadToMiddleML/blob/main/RoadMap_DataAnalyst.ipynb\" target=\"_parent\"><img src=\"https://colab.research.google.com/assets/colab-badge.svg\" alt=\"Open In Colab\"/></a>"
      ]
    },
    {
      "cell_type": "markdown",
      "source": [
        "# Data Analyst *Roadmap*"
      ],
      "metadata": {
        "id": "QMxjqic8vxbi"
      }
    },
    {
      "cell_type": "markdown",
      "source": [
        "1. What is Data Analytics and Types of Data Analytics\n",
        "- Descriptive ANalysis -\n",
        "- Diagnostic Analysis\n",
        "- Predictive Analysis\n",
        "- Prespective Analysis\n",
        "\n",
        "2. Dispersion:\n",
        "- Range, Variance, Standard Deviation\n",
        "- Central Tendency: Mean, Median, Mode, Average\n",
        "- Distribution Space: Skewness, Kurtosis\n",
        "\n",
        "3. Analysis / Reporting with Excel\n",
        "\n",
        "4. SQL Common Functions\n",
        "\n",
        "5. Learning Programming languages (python, R),\n",
        "- Data Manipulation Libraries (Dplyr)\n",
        "- Data Visualization libraries (matplotlib, seaborn, ggplot2)\n",
        "\n",
        "6. Data Collection\n",
        "- Databases\n",
        "- Csv files\n",
        "- APIs\n",
        "- Web Scraping\n",
        "\n",
        "7. Data Cleaning (Pandas, Dplyr)\n",
        "- Handling Missing Data\n",
        "- Removing Duplicates\n",
        "- Finding Outliers\n",
        "- Data Transformation\n",
        "\n",
        "8. Statistical Analysis\n",
        "- Hypothesis Testing\n",
        "- Correlation Analysis\n",
        "- Regression"
      ],
      "metadata": {
        "id": "OtKg0Fu2vzub"
      }
    },
    {
      "cell_type": "markdown",
      "source": [
        "# Hypothesis Testing\n",
        "\n",
        "1. The main type of Hypothesis:\n",
        "- Null Hypothesis (H0)- A statement that is true, untill the evidence indicates otherwise\n",
        "\n",
        "- Alternative Hypothesis (H1) - A statement against null hypothesis\n",
        "\n",
        "\n",
        "2. Significance level (a) - the threshold for determining whether the null hypothesis can be rejected, commonly set at 0,01 or 0,05 or 0,10.\n",
        "\n",
        "3. P - value - The probability of observing the test results under the null hypothesis.\n",
        "\n",
        "4. Type 1 Error - Incorrectly rejecting the null hypothesis (false positive)\n",
        "\n",
        "5. Type II Error - Failing to reject the null hypothesis when it is false (false negative)"
      ],
      "metadata": {
        "id": "DDUADkX6ltEO"
      }
    },
    {
      "cell_type": "markdown",
      "source": [
        "# Statistical Tests\n",
        "\n",
        "1. Z-Test - Z-tests are used to determine if there is a significant difference between sample and population means or between the means of two samples, particularly when the population variance is known."
      ],
      "metadata": {
        "id": "f2Qrhon9lwDg"
      }
    },
    {
      "cell_type": "code",
      "source": [
        "library(BSDA)\n",
        "\n",
        "data <- c(52, 50, 51, 53, 54, 52, 50, 51, 52, 53)\n",
        "mu <-50 #population mean\n",
        "sigma <-2 #sd\n",
        "\n",
        "z.test(data, mu, sigma)"
      ],
      "metadata": {
        "colab": {
          "base_uri": "https://localhost:8080/",
          "height": 211
        },
        "id": "WHW1w7cbZ5t8",
        "outputId": "eb91ebbd-969b-42db-9d9e-535d3cf949e6"
      },
      "execution_count": 2,
      "outputs": [
        {
          "output_type": "error",
          "ename": "NameError",
          "evalue": "name 'library' is not defined",
          "traceback": [
            "\u001b[0;31m---------------------------------------------------------------------------\u001b[0m",
            "\u001b[0;31mNameError\u001b[0m                                 Traceback (most recent call last)",
            "\u001b[0;32m<ipython-input-2-5203acbd89fc>\u001b[0m in \u001b[0;36m<cell line: 1>\u001b[0;34m()\u001b[0m\n\u001b[0;32m----> 1\u001b[0;31m \u001b[0mlibrary\u001b[0m\u001b[0;34m(\u001b[0m\u001b[0mBSDA\u001b[0m\u001b[0;34m)\u001b[0m\u001b[0;34m\u001b[0m\u001b[0;34m\u001b[0m\u001b[0m\n\u001b[0m\u001b[1;32m      2\u001b[0m \u001b[0;34m\u001b[0m\u001b[0m\n\u001b[1;32m      3\u001b[0m \u001b[0mdata\u001b[0m \u001b[0;34m<\u001b[0m\u001b[0;34m-\u001b[0m \u001b[0mc\u001b[0m\u001b[0;34m(\u001b[0m\u001b[0;36m52\u001b[0m\u001b[0;34m,\u001b[0m \u001b[0;36m50\u001b[0m\u001b[0;34m,\u001b[0m \u001b[0;36m51\u001b[0m\u001b[0;34m,\u001b[0m \u001b[0;36m53\u001b[0m\u001b[0;34m,\u001b[0m \u001b[0;36m54\u001b[0m\u001b[0;34m,\u001b[0m \u001b[0;36m52\u001b[0m\u001b[0;34m,\u001b[0m \u001b[0;36m50\u001b[0m\u001b[0;34m,\u001b[0m \u001b[0;36m51\u001b[0m\u001b[0;34m,\u001b[0m \u001b[0;36m52\u001b[0m\u001b[0;34m,\u001b[0m \u001b[0;36m53\u001b[0m\u001b[0;34m)\u001b[0m\u001b[0;34m\u001b[0m\u001b[0;34m\u001b[0m\u001b[0m\n\u001b[1;32m      4\u001b[0m \u001b[0mmu\u001b[0m \u001b[0;34m<\u001b[0m\u001b[0;34m-\u001b[0m\u001b[0;36m50\u001b[0m \u001b[0;31m#population mean\u001b[0m\u001b[0;34m\u001b[0m\u001b[0;34m\u001b[0m\u001b[0m\n\u001b[1;32m      5\u001b[0m \u001b[0msigma\u001b[0m \u001b[0;34m<\u001b[0m\u001b[0;34m-\u001b[0m\u001b[0;36m2\u001b[0m \u001b[0;31m#sd\u001b[0m\u001b[0;34m\u001b[0m\u001b[0;34m\u001b[0m\u001b[0m\n",
            "\u001b[0;31mNameError\u001b[0m: name 'library' is not defined"
          ]
        }
      ]
    },
    {
      "cell_type": "markdown",
      "source": [
        "2. T- Test - comparing the means of one or two samples, especially when the population variance is unknown\n",
        "\n",
        "3. ANOVA (Analysis of Variance) - It is used to compare  the means of three or more groups to see if at least one group mean is different from the others.\n",
        "\n",
        "\n",
        "Non- parametric Tests\n",
        "\n",
        "1. Chi-Square Test - The Chi-Square test is used to determine if there is a significant association between two categorical variables.\n",
        "\n",
        "2. Mann- Whitney U test - The Mann-Whitney U test is used to compare differences between two independent groups when the dependent variable is either ordinal or continuous, but not normally distributed.\n",
        "\n",
        "3. Spearman's Rank Correlation - Spearman's Rank Correlation is used to assess the strength and direction of the association between two ranked variables."
      ],
      "metadata": {
        "id": "aVyUa9NXZ4_O"
      }
    },
    {
      "cell_type": "code",
      "execution_count": null,
      "metadata": {
        "id": "htuhyuUMt-rZ"
      },
      "outputs": [],
      "source": []
    }
  ]
}