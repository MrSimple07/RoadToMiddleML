{
  "nbformat": 4,
  "nbformat_minor": 0,
  "metadata": {
    "colab": {
      "provenance": [],
      "authorship_tag": "ABX9TyP2cqN10ClfbuXe0P6NtKMK",
      "include_colab_link": true
    },
    "kernelspec": {
      "name": "python3",
      "display_name": "Python 3"
    },
    "language_info": {
      "name": "python"
    }
  },
  "cells": [
    {
      "cell_type": "markdown",
      "metadata": {
        "id": "view-in-github",
        "colab_type": "text"
      },
      "source": [
        "<a href=\"https://colab.research.google.com/github/MrSimple07/RoadToMiddleML/blob/main/RoadMap_DataAnalyst.ipynb\" target=\"_parent\"><img src=\"https://colab.research.google.com/assets/colab-badge.svg\" alt=\"Open In Colab\"/></a>"
      ]
    },
    {
      "cell_type": "markdown",
      "source": [
        "# Data Analyst Roadmap"
      ],
      "metadata": {
        "id": "QMxjqic8vxbi"
      }
    },
    {
      "cell_type": "markdown",
      "source": [
        "1. What is Data Analytics and Types of Data Analytics\n",
        "- Descriptive ANalysis\n",
        "- Diagnostic Analysis\n",
        "- Predictive Analysis\n",
        "- Prespective Analysis\n",
        "\n",
        "2. Key Consepts of Data\n",
        "\n",
        "3. Analysis / Reporting with Excel\n",
        "\n",
        "4. SQL Common Functions\n",
        "\n",
        "5. Learning Programming languages (python, R), Data Manipulation Libraries (Dplyr), Data Visualization libraries (matplotlib, seaborn, ggplot2)\n",
        "\n",
        "6. Data Collection\n",
        "- Databases\n",
        "- Csv files\n",
        "- APIs\n",
        "- Web Scraping\n",
        "\n",
        "7. Data Cleaning\n",
        "- Handling Missing Data\n",
        "- Removing Duplicates\n",
        "- Finding Outliers\n",
        "- Data Transformation\n",
        "\n",
        "8."
      ],
      "metadata": {
        "id": "OtKg0Fu2vzub"
      }
    },
    {
      "cell_type": "code",
      "execution_count": null,
      "metadata": {
        "id": "htuhyuUMt-rZ"
      },
      "outputs": [],
      "source": []
    }
  ]
}