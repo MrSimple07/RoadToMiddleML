{
  "nbformat": 4,
  "nbformat_minor": 0,
  "metadata": {
    "colab": {
      "provenance": [],
      "authorship_tag": "ABX9TyO8zkf6pkrGn7XhvkibxNTc",
      "include_colab_link": true
    },
    "kernelspec": {
      "name": "python3",
      "display_name": "Python 3"
    },
    "language_info": {
      "name": "python"
    }
  },
  "cells": [
    {
      "cell_type": "markdown",
      "metadata": {
        "id": "view-in-github",
        "colab_type": "text"
      },
      "source": [
        "<a href=\"https://colab.research.google.com/github/MrSimple07/RoadToMiddleML/blob/main/RoadMap_DataAnalyst.ipynb\" target=\"_parent\"><img src=\"https://colab.research.google.com/assets/colab-badge.svg\" alt=\"Open In Colab\"/></a>"
      ]
    },
    {
      "cell_type": "markdown",
      "source": [
        "# Data Analyst *Roadmap*"
      ],
      "metadata": {
        "id": "QMxjqic8vxbi"
      }
    },
    {
      "cell_type": "markdown",
      "source": [
        "1. What is Data Analytics and Types of Data Analytics\n",
        "- Descriptive ANalysis -\n",
        "- Diagnostic Analysis\n",
        "- Predictive Analysis\n",
        "- Prespective Analysis\n",
        "\n",
        "2. Dispersion:\n",
        "- Range, Variance, Standard Deviation\n",
        "- Central Tendency: Mean, Median, Mode, Average\n",
        "- Distribution Space: Skewness, Kurtosis\n",
        "\n",
        "3. Analysis / Reporting with Excel\n",
        "\n",
        "4. SQL Common Functions\n",
        "\n",
        "5. Learning Programming languages (python, R),\n",
        "- Data Manipulation Libraries (Dplyr)\n",
        "- Data Visualization libraries (matplotlib, seaborn, ggplot2)\n",
        "\n",
        "6. Data Collection\n",
        "- Databases\n",
        "- Csv files\n",
        "- APIs\n",
        "- Web Scraping\n",
        "\n",
        "7. Data Cleaning (Pandas, Dplyr)\n",
        "- Handling Missing Data\n",
        "- Removing Duplicates\n",
        "- Finding Outliers\n",
        "- Data Transformation\n",
        "\n",
        "8. Statistical Analysis\n",
        "- Hypothesis Testing\n",
        "- Correlation Analysis\n",
        "- Regression"
      ],
      "metadata": {
        "id": "OtKg0Fu2vzub"
      }
    },
    {
      "cell_type": "markdown",
      "source": [
        "# Hypothesis Testing\n",
        "\n",
        "1. The main type of Hypothesis:\n",
        "- Null Hypothesis (H0)- A statement that is true, untill the evidence indicates otherwise\n",
        "\n",
        "- Alternative Hypothesis (H1) - A statement against null hypothesis\n",
        "\n",
        "\n",
        "2. Significance level (a) - the threshold for determining whether the null hypothesis can be rejected, commonly set at 0,01 or 0,05 or 0,10.\n",
        "\n",
        "3. P - value - The probability of observing the test results under the null hypothesis.\n",
        "\n",
        "4. Type 1 Error - Incorrectly rejecting the null hypothesis (false positive)\n",
        "\n",
        "5. Type II Error - Failing to reject the null hypothesis when it is false (false negative)"
      ],
      "metadata": {
        "id": "DDUADkX6ltEO"
      }
    },
    {
      "cell_type": "markdown",
      "source": [
        "# Statistical Tests\n",
        "\n",
        "1. Z-Test\n",
        "\n",
        "2. T- Test\n",
        "\n",
        "3. ANOVA (Analysis of Variance)\n",
        "\n",
        "\n",
        "Non- parametric Tests\n",
        "\n",
        "1. Chi-Square Test\n",
        "\n",
        "2. Mann- Whitney U test\n",
        "\n",
        "3. Spearman's Rank Correlation"
      ],
      "metadata": {
        "id": "f2Qrhon9lwDg"
      }
    },
    {
      "cell_type": "code",
      "execution_count": null,
      "metadata": {
        "id": "htuhyuUMt-rZ"
      },
      "outputs": [],
      "source": []
    }
  ]
}